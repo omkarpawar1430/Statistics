{
 "cells": [
  {
   "cell_type": "markdown",
   "metadata": {},
   "source": [
    "# Probability Distribution Function"
   ]
  },
  {
   "attachments": {},
   "cell_type": "markdown",
   "metadata": {},
   "source": [
    "### Probability Mass Function: (Discrete Random Variable)"
   ]
  },
  {
   "cell_type": "code",
   "execution_count": 1,
   "metadata": {},
   "outputs": [
    {
     "ename": "ModuleNotFoundError",
     "evalue": "No module named 'matplotlib'",
     "output_type": "error",
     "traceback": [
      "\u001b[0;31m---------------------------------------------------------------------------\u001b[0m",
      "\u001b[0;31mModuleNotFoundError\u001b[0m                       Traceback (most recent call last)",
      "Cell \u001b[0;32mIn[1], line 1\u001b[0m\n\u001b[0;32m----> 1\u001b[0m \u001b[39mimport\u001b[39;00m \u001b[39mmatplotlib\u001b[39;00m\u001b[39m.\u001b[39;00m\u001b[39mpyplot\u001b[39;00m \u001b[39mas\u001b[39;00m \u001b[39mplt\u001b[39;00m\n\u001b[1;32m      2\u001b[0m \u001b[39mimport\u001b[39;00m \u001b[39mnumpy\u001b[39;00m \u001b[39mas\u001b[39;00m \u001b[39mnp\u001b[39;00m\n\u001b[1;32m      4\u001b[0m data \u001b[39m=\u001b[39m [[\u001b[39m1\u001b[39m, \u001b[39m1\u001b[39m],\n\u001b[1;32m      5\u001b[0m         [\u001b[39m2\u001b[39m, \u001b[39m1\u001b[39m],\n\u001b[1;32m      6\u001b[0m         [\u001b[39m3\u001b[39m, \u001b[39m1\u001b[39m],\n\u001b[1;32m      7\u001b[0m         [\u001b[39m4\u001b[39m, \u001b[39m1\u001b[39m],\n\u001b[1;32m      8\u001b[0m         [\u001b[39m5\u001b[39m, \u001b[39m1\u001b[39m],\n\u001b[1;32m      9\u001b[0m         [\u001b[39m6\u001b[39m, \u001b[39m1\u001b[39m]]\n",
      "\u001b[0;31mModuleNotFoundError\u001b[0m: No module named 'matplotlib'"
     ]
    }
   ],
   "source": [
    "import matplotlib.pyplot as plt\n",
    "import numpy as np\n",
    "\n",
    "data = [[1, 1],\n",
    "        [2, 1],\n",
    "        [3, 1],\n",
    "        [4, 1],\n",
    "        [5, 1],\n",
    "        [6, 1]]\n",
    "print(data)\n",
    "x = [d[0] for d in data]\n",
    "y = [d[1]/sum([d[1] for d in data]) for d in data]\n",
    "\n",
    "plt.stem(x, y)\n",
    "plt.xlabel('Die Value')\n",
    "plt.ylabel('PMF')\n",
    "plt.title('Probability Mass Function')\n",
    "plt.show()\n",
    "\n"
   ]
  },
  {
   "attachments": {},
   "cell_type": "markdown",
   "metadata": {},
   "source": [
    "#### Cumulative Distribution Function: "
   ]
  },
  {
   "cell_type": "code",
   "execution_count": 13,
   "metadata": {},
   "outputs": [
    {
     "data": {
      "image/png": "[encoded data removed]",
      "text/plain": [
       "<Figure size 432x288 with 1 Axes>"
      ]
     },
     "metadata": {
      "needs_background": "light"
     },
     "output_type": "display_data"
    }
   ],
   "source": [
    "cdf = np.cumsum(y)\n",
    "plt.plot(x, cdf)\n",
    "plt.xlabel('Die Value')\n",
    "plt.ylabel('CDF')\n",
    "plt.title('Cumulative Distribution Function')\n",
    "plt.show()\n"
   ]
  },
  {
   "attachments": {},
   "cell_type": "markdown",
   "metadata": {},
   "source": [
    "### Probability Density Function: (continuous Random Variable)"
   ]
  },
  {
   "cell_type": "code",
   "execution_count": 2,
   "metadata": {},
   "outputs": [
    {
     "ename": "ModuleNotFoundError",
     "evalue": "No module named 'matplotlib'",
     "output_type": "error",
     "traceback": [
      "\u001b[0;31m---------------------------------------------------------------------------\u001b[0m",
      "\u001b[0;31mModuleNotFoundError\u001b[0m                       Traceback (most recent call last)",
      "Cell \u001b[0;32mIn[2], line 1\u001b[0m\n\u001b[0;32m----> 1\u001b[0m \u001b[39mimport\u001b[39;00m \u001b[39mmatplotlib\u001b[39;00m\u001b[39m.\u001b[39;00m\u001b[39mpyplot\u001b[39;00m \u001b[39mas\u001b[39;00m \u001b[39mplt\u001b[39;00m\n\u001b[1;32m      3\u001b[0m mean \u001b[39m=\u001b[39m \u001b[39m50\u001b[39m\n\u001b[1;32m      4\u001b[0m std_dev \u001b[39m=\u001b[39m \u001b[39m10\u001b[39m\n",
      "\u001b[0;31mModuleNotFoundError\u001b[0m: No module named 'matplotlib'"
     ]
    }
   ],
   "source": [
    "import matplotlib.pyplot as plt\n",
    "\n",
    "mean = 50\n",
    "std_dev = 10\n",
    "sample_size = 1000\n",
    "\n",
    "data = np.random.normal(mean, std_dev, sample_size)\n",
    "print(data)\n",
    "\n",
    "count, bins, ignored = plt.hist(data, 30, density=True)\n",
    "\n",
    "plt.plot(bins, 1/(std_dev * np.sqrt(2 * np.pi)) * \n",
    "         np.exp( - (bins - mean)**2 / (2 * std_dev**2) ),\n",
    "         linewidth=2, color='r')\n",
    "plt.xlabel('Value')\n",
    "plt.ylabel('PDF')\n",
    "plt.title('Probability Density Function')\n",
    "plt.show()\n"
   ]
  },
  {
   "attachments": {},
   "cell_type": "markdown",
   "metadata": {},
   "source": [
    "#### Cumulative Distribution Function: "
   ]
  },
  {
   "cell_type": "code",
   "execution_count": 5,
   "metadata": {},
   "outputs": [
    {
     "data": {
      "image/png": "[encoded data removed]",
      "text/plain": [
       "<Figure size 432x288 with 1 Axes>"
      ]
     },
     "metadata": {
      "needs_background": "light"
     },
     "output_type": "display_data"
    }
   ],
   "source": [
    "plt.plot(bins, 1/(std_dev * np.sqrt(2 * np.pi)) * \n",
    "         np.exp( - (bins - mean)**2 / (2 * std_dev**2) ).cumsum() * np.diff(bins)[0], \n",
    "         linewidth=2, color='r')\n",
    "\n",
    "plt.xlabel('Value')\n",
    "plt.ylabel('CDF')\n",
    "plt.title('Cumulative Distribution Function')\n",
    "plt.show()"
   ]
  },
  {
   "cell_type": "code",
   "execution_count": null,
   "metadata": {},
   "outputs": [],
   "source": []
  }
 ],
 "metadata": {
  "kernelspec": {
   "display_name": "Python 3",
   "language": "python",
   "name": "python3"
  },
  "language_info": {
   "codemirror_mode": {
    "name": "ipython",
    "version": 3
   },
   "file_extension": ".py",
   "mimetype": "text/x-python",
   "name": "python",
   "nbconvert_exporter": "python",
   "pygments_lexer": "ipython3",
   "version": "3.10.6"
  },
  "orig_nbformat": 4
 },
 "nbformat": 4,
 "nbformat_minor": 2
}
