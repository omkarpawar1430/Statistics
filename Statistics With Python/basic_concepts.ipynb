{
 "cells": [
  {
   "cell_type": "code",
   "execution_count": 8,
   "metadata": {},
   "outputs": [],
   "source": [
    "import pandas as pd\n",
    "import numpy as np \n",
    "import statistics as stat\n",
    "import seaborn as sns"
   ]
  },
  {
   "cell_type": "code",
   "execution_count": 9,
   "metadata": {},
   "outputs": [],
   "source": [
    "data = [23, 34, 55, 53, 32, 23, 23, 33, 53]"
   ]
  },
  {
   "attachments": {},
   "cell_type": "markdown",
   "metadata": {},
   "source": [
    "Sorting Data:"
   ]
  },
  {
   "cell_type": "code",
   "execution_count": 10,
   "metadata": {},
   "outputs": [
    {
     "data": {
      "text/plain": [
       "[23, 23, 23, 32, 33, 34, 53, 53, 55]"
      ]
     },
     "execution_count": 10,
     "metadata": {},
     "output_type": "execute_result"
    }
   ],
   "source": [
    "data_copy = data.copy()\n",
    "data_copy.sort()\n",
    "data_copy"
   ]
  },
  {
   "attachments": {},
   "cell_type": "markdown",
   "metadata": {},
   "source": [
    "Measures of Central Tendency:"
   ]
  },
  {
   "cell_type": "code",
   "execution_count": 11,
   "metadata": {},
   "outputs": [
    {
     "data": {
      "text/plain": [
       "36.55555555555556"
      ]
     },
     "execution_count": 11,
     "metadata": {},
     "output_type": "execute_result"
    }
   ],
   "source": [
    "np.mean(data)"
   ]
  },
  {
   "cell_type": "code",
   "execution_count": 12,
   "metadata": {},
   "outputs": [
    {
     "data": {
      "text/plain": [
       "33.0"
      ]
     },
     "execution_count": 12,
     "metadata": {},
     "output_type": "execute_result"
    }
   ],
   "source": [
    "np.median(data)"
   ]
  },
  {
   "cell_type": "code",
   "execution_count": 13,
   "metadata": {},
   "outputs": [
    {
     "ename": "AttributeError",
     "evalue": "module 'numpy' has no attribute 'mode'",
     "output_type": "error",
     "traceback": [
      "\u001b[0;31m---------------------------------------------------------------------------\u001b[0m",
      "\u001b[0;31mAttributeError\u001b[0m                            Traceback (most recent call last)",
      "Cell \u001b[0;32mIn[13], line 1\u001b[0m\n\u001b[0;32m----> 1\u001b[0m np\u001b[39m.\u001b[39;49mmode(data) \u001b[39m# We can't use mode in numpy\u001b[39;00m\n",
      "File \u001b[0;32m~/.local/lib/python3.10/site-packages/numpy/__init__.py:320\u001b[0m, in \u001b[0;36m__getattr__\u001b[0;34m(attr)\u001b[0m\n\u001b[1;32m    317\u001b[0m     \u001b[39mfrom\u001b[39;00m \u001b[39m.\u001b[39;00m\u001b[39mtesting\u001b[39;00m \u001b[39mimport\u001b[39;00m Tester\n\u001b[1;32m    318\u001b[0m     \u001b[39mreturn\u001b[39;00m Tester\n\u001b[0;32m--> 320\u001b[0m \u001b[39mraise\u001b[39;00m \u001b[39mAttributeError\u001b[39;00m(\u001b[39m\"\u001b[39m\u001b[39mmodule \u001b[39m\u001b[39m{!r}\u001b[39;00m\u001b[39m has no attribute \u001b[39m\u001b[39m\"\u001b[39m\n\u001b[1;32m    321\u001b[0m                      \u001b[39m\"\u001b[39m\u001b[39m{!r}\u001b[39;00m\u001b[39m\"\u001b[39m\u001b[39m.\u001b[39mformat(\u001b[39m__name__\u001b[39m, attr))\n",
      "\u001b[0;31mAttributeError\u001b[0m: module 'numpy' has no attribute 'mode'"
     ]
    }
   ],
   "source": [
    "np.mode(data) # We can't use mode in numpy"
   ]
  },
  {
   "attachments": {},
   "cell_type": "markdown",
   "metadata": {},
   "source": [
    "We can use statistics Lib here: "
   ]
  },
  {
   "cell_type": "code",
   "execution_count": null,
   "metadata": {},
   "outputs": [
    {
     "data": {
      "text/plain": [
       "36.55555555555556"
      ]
     },
     "execution_count": 8,
     "metadata": {},
     "output_type": "execute_result"
    }
   ],
   "source": [
    "stat.mean(data)"
   ]
  },
  {
   "cell_type": "code",
   "execution_count": null,
   "metadata": {},
   "outputs": [
    {
     "data": {
      "text/plain": [
       "33"
      ]
     },
     "execution_count": 9,
     "metadata": {},
     "output_type": "execute_result"
    }
   ],
   "source": [
    "stat.median(data)"
   ]
  },
  {
   "cell_type": "code",
   "execution_count": null,
   "metadata": {},
   "outputs": [
    {
     "data": {
      "text/plain": [
       "23"
      ]
     },
     "execution_count": 15,
     "metadata": {},
     "output_type": "execute_result"
    }
   ],
   "source": [
    "stat.mode(data)"
   ]
  },
  {
   "attachments": {},
   "cell_type": "markdown",
   "metadata": {},
   "source": [
    "Measures of Dispersion:\n"
   ]
  },
  {
   "cell_type": "code",
   "execution_count": null,
   "metadata": {},
   "outputs": [
    {
     "data": {
      "text/plain": [
       "[23, 23, 23, 32, 33, 34, 53, 53, 55]"
      ]
     },
     "execution_count": 17,
     "metadata": {},
     "output_type": "execute_result"
    }
   ],
   "source": [
    "# Five Number Summary: \n",
    "data"
   ]
  },
  {
   "cell_type": "code",
   "execution_count": null,
   "metadata": {},
   "outputs": [
    {
     "data": {
      "text/plain": [
       "array([23.])"
      ]
     },
     "execution_count": 27,
     "metadata": {},
     "output_type": "execute_result"
    }
   ],
   "source": [
    "q1 = np.percentile(data, [25])\n",
    "q1"
   ]
  },
  {
   "cell_type": "code",
   "execution_count": null,
   "metadata": {},
   "outputs": [
    {
     "data": {
      "text/plain": [
       "array([33.])"
      ]
     },
     "execution_count": 28,
     "metadata": {},
     "output_type": "execute_result"
    }
   ],
   "source": [
    "q2 = np.percentile(data, [50])\n",
    "q2"
   ]
  },
  {
   "cell_type": "code",
   "execution_count": null,
   "metadata": {},
   "outputs": [
    {
     "data": {
      "text/plain": [
       "array([53.])"
      ]
     },
     "execution_count": 29,
     "metadata": {},
     "output_type": "execute_result"
    }
   ],
   "source": [
    "q3 = np.percentile(data, [75])\n",
    "q3"
   ]
  },
  {
   "cell_type": "code",
   "execution_count": null,
   "metadata": {},
   "outputs": [
    {
     "data": {
      "text/plain": [
       "<Axes: >"
      ]
     },
     "execution_count": 35,
     "metadata": {},
     "output_type": "execute_result"
    },
    {
     "data": {
      "image/png": "[encoded data removed]",
      "text/plain": [
       "<Figure size 640x480 with 1 Axes>"
      ]
     },
     "metadata": {},
     "output_type": "display_data"
    }
   ],
   "source": [
    "# Box Plot: \n",
    "sns.boxplot(data)"
   ]
  },
  {
   "cell_type": "code",
   "execution_count": null,
   "metadata": {},
   "outputs": [
    {
     "data": {
      "text/plain": [
       "163.58024691358025"
      ]
     },
     "execution_count": 36,
     "metadata": {},
     "output_type": "execute_result"
    }
   ],
   "source": [
    "# Variance: \n",
    "np.var(data)"
   ]
  },
  {
   "cell_type": "code",
   "execution_count": null,
   "metadata": {},
   "outputs": [
    {
     "data": {
      "text/plain": [
       "12.789849370245932"
      ]
     },
     "execution_count": 41,
     "metadata": {},
     "output_type": "execute_result"
    }
   ],
   "source": [
    "# Standard Deviation:\n",
    "np.std(data)\n"
   ]
  },
  {
   "cell_type": "code",
   "execution_count": null,
   "metadata": {},
   "outputs": [
    {
     "data": {
      "text/plain": [
       "array(184.02777778)"
      ]
     },
     "execution_count": 40,
     "metadata": {},
     "output_type": "execute_result"
    }
   ],
   "source": [
    "# Covariance:\n",
    "np.cov(data)"
   ]
  },
  {
   "cell_type": "code",
   "execution_count": 15,
   "metadata": {},
   "outputs": [
    {
     "data": {
      "text/plain": [
       "[23, 34, 55, 53, 32, 23, 23, 33, 53]"
      ]
     },
     "execution_count": 15,
     "metadata": {},
     "output_type": "execute_result"
    }
   ],
   "source": [
    "data "
   ]
  },
  {
   "attachments": {},
   "cell_type": "markdown",
   "metadata": {},
   "source": [
    "Plotting data:"
   ]
  },
  {
   "cell_type": "code",
   "execution_count": 16,
   "metadata": {},
   "outputs": [
    {
     "data": {
      "text/plain": [
       "<Axes: ylabel='Count'>"
      ]
     },
     "execution_count": 16,
     "metadata": {},
     "output_type": "execute_result"
    },
    {
     "data": {
      "image/png": "[encoded data removed]",
      "text/plain": [
       "<Figure size 640x480 with 1 Axes>"
      ]
     },
     "metadata": {},
     "output_type": "display_data"
    }
   ],
   "source": [
    "sns.histplot(data)"
   ]
  },
  {
   "cell_type": "code",
   "execution_count": 17,
   "metadata": {},
   "outputs": [
    {
     "data": {
      "text/plain": [
       "<Axes: ylabel='Count'>"
      ]
     },
     "execution_count": 17,
     "metadata": {},
     "output_type": "execute_result"
    },
    {
     "data": {
      "image/png": "[encoded data removed]",
      "text/plain": [
       "<Figure size 640x480 with 1 Axes>"
      ]
     },
     "metadata": {},
     "output_type": "display_data"
    }
   ],
   "source": [
    "sns.histplot(data, kde= True)"
   ]
  },
  {
   "attachments": {},
   "cell_type": "markdown",
   "metadata": {},
   "source": [
    "### Normal Distribution:"
   ]
  },
  {
   "cell_type": "code",
   "execution_count": 18,
   "metadata": {},
   "outputs": [],
   "source": [
    "import numpy as np "
   ]
  },
  {
   "cell_type": "code",
   "execution_count": 19,
   "metadata": {},
   "outputs": [
    {
     "data": {
      "text/plain": [
       "array([ 0.34528936,  0.56786607,  0.64651006,  0.65118847,  0.68996347,\n",
       "        0.10850261,  0.50367214,  0.66763727,  0.44497095,  0.11014441,\n",
       "        0.51915573,  0.41007578,  0.68223978,  0.40160671,  0.31990719,\n",
       "        0.13061407,  0.64608775,  0.68223367,  0.4828941 ,  0.26788854,\n",
       "        0.55112715,  0.30776514,  0.57596221,  0.34566021,  0.2931641 ,\n",
       "        0.44457091,  0.35610687,  0.34400053,  0.37248111,  0.35086658,\n",
       "        0.62120055,  0.46120247,  0.62914756,  0.43168772,  0.22027548,\n",
       "        0.33769716,  0.55322448,  0.48046435,  0.64801576,  0.73081585,\n",
       "        0.3813631 ,  0.35547333,  0.4797052 ,  0.47949627,  0.26312022,\n",
       "        0.73737947,  0.81833133,  0.39368984,  0.19634942,  0.98621761,\n",
       "        0.46137153,  0.45151375,  0.56088869,  0.45481346,  0.57700963,\n",
       "        0.63746621,  0.51479413,  0.42431194,  0.28293046,  0.58205044,\n",
       "        0.65913532,  0.30563638,  0.32421383,  0.34434507,  0.69620351,\n",
       "        0.34031653,  0.71095875,  0.12996404,  0.57917354,  0.57010502,\n",
       "        0.72571348,  0.00281806,  0.29850705,  0.45986392,  0.72367463,\n",
       "        0.36218446,  0.24890821,  0.10878259,  0.55123237,  0.37200737,\n",
       "        0.59419084,  0.28943827,  0.50960873,  0.71597874,  0.62599333,\n",
       "        0.45736366,  0.01491146,  0.45661169,  0.57066456,  0.51871069,\n",
       "        0.33069167,  0.67894699,  0.24603325,  0.50716563,  0.74919069,\n",
       "        0.6007631 ,  0.26830851,  0.78991269,  0.55824257,  0.57923779,\n",
       "        0.44964013,  0.63556734,  0.71512151,  0.65287706,  0.47929638,\n",
       "        0.3250448 ,  0.79072365,  0.60688578,  0.2419883 ,  0.06077934,\n",
       "        0.55969712,  0.20208674,  0.48796364,  0.51684114,  0.83564765,\n",
       "        0.63873229,  0.44837811,  0.68702969,  0.39345118,  0.93631144,\n",
       "        0.68469008,  0.34411037,  0.63337842,  0.36253484,  0.35084542,\n",
       "        0.6510629 ,  0.30972284,  0.53567915,  0.41996324,  0.47161308,\n",
       "        0.56295791,  0.34815276,  0.62913372,  0.37412174,  0.82795298,\n",
       "        0.64406998,  0.0761575 ,  0.47893455,  0.21595401,  0.6706617 ,\n",
       "        0.36663464,  0.54228228,  0.1828495 ,  0.41380743,  0.69105286,\n",
       "        1.00860407,  0.67572507,  0.65293226,  0.08099508,  0.47090949,\n",
       "        0.35796509,  0.54680421,  0.32099037,  0.69303525,  0.73037747,\n",
       "        0.78410104,  0.45000326,  0.268134  ,  0.56645511,  0.47157895,\n",
       "        0.57856227,  1.0000275 ,  0.31247309,  0.65084543,  0.62179717,\n",
       "        0.45291673,  0.29846392,  0.16554461,  0.49874452,  0.39970704,\n",
       "        0.32364164,  0.6919867 ,  0.36185563,  0.46171379,  0.33308369,\n",
       "        0.43371868,  0.62638655,  0.4124329 ,  0.59667868,  0.56495807,\n",
       "        0.29467432,  0.32890094,  0.14616872,  0.81026559,  0.78406627,\n",
       "        0.72687837,  0.79446434,  0.47561643,  0.58142632,  0.4282134 ,\n",
       "        0.56479408,  0.26926285,  0.43867967,  0.31238434,  0.37053186,\n",
       "        0.41698897,  0.63725381,  0.6502742 ,  0.18618578,  0.59166789,\n",
       "        0.24736658,  0.66966766,  0.77089425,  0.1225117 ,  0.64787048,\n",
       "        0.48288112,  0.43806049,  0.25526399,  0.18407405,  0.56281479,\n",
       "        0.25458279,  0.12527216,  0.26929428,  0.57107288,  0.19697887,\n",
       "        0.73160409,  0.29828386,  0.26486168,  0.55959987,  0.50205177,\n",
       "        0.72353978,  0.72316835,  0.44045275,  0.47272978,  0.73011486,\n",
       "        0.91262642,  0.46281553,  0.3833614 ,  0.30030218,  0.43857724,\n",
       "        0.30007746,  0.72302902,  0.3765915 ,  0.62774288,  0.78072271,\n",
       "        0.33903435,  0.45580907,  0.59497429,  0.57415775,  0.42155832,\n",
       "        0.43331644,  0.27781061,  0.40463732,  0.62246682,  0.64696646,\n",
       "        0.66917289,  0.46521371,  0.57235907,  0.27464191,  0.45657714,\n",
       "        0.52068563,  0.57132275,  0.38115917,  0.4632269 ,  0.81031812,\n",
       "        0.57793946,  0.73506519, -0.17755256,  0.31445588,  0.45973656,\n",
       "        0.12900102,  0.20741815,  0.27112149,  0.52548345,  0.51456918,\n",
       "        0.38113987,  0.82408188,  0.10755708,  0.49108445,  0.61255487,\n",
       "        0.15694823,  0.63012767,  0.28740957,  0.49781169,  0.86923242,\n",
       "        0.29071856,  0.44063186,  0.68912049,  0.49084315,  0.61638827,\n",
       "        0.44386751,  0.42982999,  0.47078843,  0.46573753,  0.44718809,\n",
       "        0.50434518,  0.39626284,  0.44721108,  0.76534061,  0.533402  ,\n",
       "        0.26464687,  0.43785387,  0.27260306,  0.41547906,  0.56482954,\n",
       "        0.26729586,  0.24687128,  0.44515245,  0.46039404,  0.36150982,\n",
       "        0.54772886,  0.07439242,  0.6905931 ,  0.82856097,  0.417123  ,\n",
       "        0.49257436,  0.52257938,  0.30922926,  0.38128191,  0.49405207,\n",
       "        0.5748504 ,  0.49514691,  0.29823813,  0.24994176,  0.54483478,\n",
       "        0.56590772,  0.49362694,  0.48547578,  0.91937989,  0.41622895,\n",
       "        0.61672509,  0.7978257 ,  0.45059757,  0.42299949,  0.16374237,\n",
       "        0.76992611,  0.63195043,  0.44925063,  0.41140025,  0.00686146,\n",
       "        0.7246325 ,  0.58315646,  0.31024633,  0.31691308,  0.68053879,\n",
       "        0.53709432,  0.3098917 ,  0.75448442,  0.39351835,  0.72101481,\n",
       "        0.34796948,  0.66928617,  0.70111721,  0.59057464,  0.85014997,\n",
       "        0.68562264,  0.71017877,  0.29599936,  0.8131994 ,  0.52211053,\n",
       "        0.76736637,  0.2987432 ,  0.5672223 ,  0.53990556,  0.59553489,\n",
       "        0.53493497,  0.24370946,  0.2842188 ,  0.41152405,  0.6509276 ,\n",
       "        0.77883954,  0.33890285,  0.35358879,  0.70280519,  0.45380209,\n",
       "        0.66132162,  0.24398272,  0.70033614,  0.41999983,  0.40311548,\n",
       "        0.4899141 ,  0.49254305,  0.34219453,  0.44633363,  0.28719731,\n",
       "        0.39673745,  0.30444587,  0.61476435,  0.47307465,  0.32381778,\n",
       "        1.03346978, -0.06956461,  0.32007389,  1.0219076 ,  0.32529393,\n",
       "        0.48020597,  0.32113186,  0.67692164,  0.31906495,  0.79610274,\n",
       "        0.26857057,  0.63113099,  0.63438797,  0.34539988,  0.34628774,\n",
       "        0.39964274,  0.17993613,  0.75315347,  0.49034302,  0.65583003,\n",
       "        0.17650974,  0.61987696,  0.16914106,  0.30682621,  0.46221224,\n",
       "        0.53903405,  0.21990746,  0.7538562 ,  0.66103248,  0.84408919,\n",
       "        0.50704167,  0.43518355,  0.77922575,  0.70801426,  0.56714403,\n",
       "        0.69090577,  0.83173606,  0.38913599,  0.77061954,  0.75704009,\n",
       "        0.31222527,  0.74410929,  0.57010183,  0.49359199,  0.49871087,\n",
       "        0.53589594,  0.65752002,  0.36929653,  0.4700387 ,  0.54216362,\n",
       "        0.55767643,  0.39003255,  1.02858282,  0.38910448,  0.55133581,\n",
       "        0.58664595,  0.35834636,  0.37670541,  0.54692325,  0.45382503,\n",
       "        0.44113603,  0.87220476,  0.27061289,  0.36067212,  0.6218916 ,\n",
       "        0.68678056,  0.5519738 ,  0.45315098,  0.20828298,  0.32371363,\n",
       "        0.77032578,  0.2433445 ,  0.47656085,  0.93691592,  0.50625674,\n",
       "        0.45668275,  0.40049157,  0.74389698,  0.6363037 ,  0.43711667,\n",
       "        0.79498003,  0.68168206,  0.73264712,  0.7072037 ,  0.64856502,\n",
       "        0.32484381,  0.55477058,  0.67876037,  0.44923061,  0.36210115,\n",
       "        0.15060518,  0.39130489,  0.24063922,  0.75601518,  0.48786053,\n",
       "        0.24333306,  0.61627266,  0.66864029,  0.07358643,  0.89637214,\n",
       "        0.46272877,  0.66376355,  0.25955112,  0.59783106,  0.29817546,\n",
       "        0.16120181,  0.44581879,  0.74731576,  0.61939455,  0.44396075,\n",
       "        0.5167227 ,  0.55194657,  0.84770724,  0.35095591,  0.57097634,\n",
       "        0.34119244,  0.52147871,  0.71984966,  0.58417694,  0.27230576,\n",
       "        0.45947066,  0.76179491,  0.05703114,  0.76700548,  0.76028514,\n",
       "        0.70523963,  0.7194483 ,  0.12881422,  0.24980056,  0.80782806,\n",
       "        0.53935988,  0.56867103,  0.69841948,  0.73639885,  0.49813135,\n",
       "        0.42080367,  0.31535066,  0.32241955,  0.22663816,  0.26367618,\n",
       "        0.48156147,  0.55967859,  0.96217579,  0.62793522,  0.61724605,\n",
       "        0.78042757,  0.58698701,  0.7567726 ,  1.05989673,  0.72460656,\n",
       "        0.63844602,  0.1976367 ,  0.50653389,  0.12101518,  0.45003726,\n",
       "        0.49412299,  0.52951623,  0.4315376 ,  0.57747311,  0.49054138,\n",
       "        0.58454685,  0.70434384,  0.89219932,  0.67110882,  0.41166624,\n",
       "        0.15951185,  0.66150283,  0.41833635,  0.39359275,  0.53077806,\n",
       "        0.68447201,  0.19252297,  0.15816817,  0.61814918,  0.1152173 ,\n",
       "        0.15086234,  0.63823277,  0.59529052,  0.69510998,  0.27457989,\n",
       "        0.20885321,  0.1410284 ,  0.47337708,  0.99093219,  0.3752242 ,\n",
       "        0.40633748,  0.43374765,  0.65171285,  0.26626227,  0.43794014,\n",
       "        0.49972808,  0.50138155,  0.72696259,  0.2317092 ,  0.31179879,\n",
       "        0.67563136,  0.77309934,  0.50600275,  0.63164354,  0.97154415,\n",
       "        0.45997818,  0.84359442,  0.34581476,  0.37870493,  0.28767896,\n",
       "        0.84301318,  0.72330872,  0.29305266,  0.18768044,  0.77573667,\n",
       "        0.20437667,  0.25083991,  0.70373384,  0.36608728,  0.57538236,\n",
       "        0.31522976,  0.49385992,  0.45817325, -0.11481468,  0.98352439,\n",
       "        0.57674311,  0.56501821,  0.65264653,  0.49495957,  0.60343796,\n",
       "        0.29816575,  0.40781499,  0.39610192,  0.6957319 ,  0.41891002,\n",
       "        0.68377402,  0.45096896,  0.51312653,  0.56685585,  0.4324186 ,\n",
       "        0.55418414,  0.46803616,  0.40951941,  0.81255436,  0.46783281,\n",
       "        0.79123771,  0.66436029,  0.43127905,  0.5458377 ,  0.07701323,\n",
       "        0.24491826,  0.45422225,  0.58795739,  0.5888376 ,  0.2459674 ,\n",
       "        0.58130377,  0.62428628,  0.58168028,  0.60607567,  0.21739817,\n",
       "        0.65395735,  0.59000458,  0.32005717,  0.50618646,  0.29016191,\n",
       "        0.9415608 ,  0.7458822 ,  0.68904272,  0.27968303,  0.50090277,\n",
       "        0.66393786,  0.45548961,  0.75784085,  0.57739341,  0.1515224 ,\n",
       "        0.34411462,  0.41542162,  0.5014276 ,  0.69291287,  0.15913699,\n",
       "        0.26752064,  0.07635032,  0.83346082,  0.37801378,  0.7033025 ,\n",
       "        0.44966553,  0.44899595,  0.5367022 ,  0.603905  ,  0.48721366,\n",
       "        0.96181764,  0.54751708,  0.10432899,  0.76190314,  0.44997839,\n",
       "        0.55266687,  0.89016474,  0.33927012,  0.77298636,  0.69188688,\n",
       "        0.43541097,  0.36750704,  0.38593313,  0.40825558,  0.22709694,\n",
       "        0.57535406,  0.1581217 ,  0.43560375,  0.11775321,  0.67154405,\n",
       "        0.50324104,  0.31471618,  0.36617162,  0.56702278,  0.47353408,\n",
       "        0.60468668,  0.44345873,  0.86445848,  0.39917724,  0.47882019,\n",
       "        0.77199321,  0.68552493,  0.35614315,  0.3607591 ,  0.7022278 ,\n",
       "        0.09920904,  0.18303767,  0.34503605,  0.69084999,  0.33295712,\n",
       "        0.5535799 ,  0.39796546,  0.14316018,  0.72926982,  0.40036449,\n",
       "        0.42063151,  0.62385289,  0.2036626 ,  0.49164065,  0.58037159,\n",
       "        0.6640242 ,  0.6550345 ,  0.65041624,  0.54157462,  0.95001381,\n",
       "        0.46570575,  0.48810491,  0.50401141,  0.62706318,  0.62647722,\n",
       "        0.47989764,  0.13881977, -0.01240908,  0.21455579,  0.60494543,\n",
       "        0.43811985,  0.44962062,  0.92477254, -0.14656019,  0.52964285,\n",
       "        0.28592209,  0.21471895,  0.65878771,  0.34138332,  0.60261053,\n",
       "        0.39515498,  0.64287686,  0.80423868,  0.65721379,  0.4647693 ,\n",
       "        0.52623154,  0.1916082 ,  0.26835858,  0.88064258,  0.62492572,\n",
       "        0.45349087,  0.24938344,  0.35393665,  0.78597794,  0.10025699,\n",
       "        0.51244172,  0.25045037,  0.22330126,  0.45473425,  0.55366601,\n",
       "        0.34110926,  0.06435805,  0.35927347,  0.47417729,  0.53578672,\n",
       "        0.27085081,  0.53301173,  0.43746333,  0.29746851,  0.14924211,\n",
       "        0.58881995,  0.22684215,  0.21129309,  0.36894407,  0.35468165,\n",
       "        0.40038238,  0.78193222,  0.43181917,  0.11814603,  0.33182123,\n",
       "        0.74303625,  0.43618931,  0.52876947,  0.1643144 ,  0.738131  ,\n",
       "        0.78214732,  0.53820815,  0.56115906,  0.51310361,  1.00112225,\n",
       "        0.27984795,  0.58314681,  0.62508139,  0.6002888 ,  0.64839759,\n",
       "        0.59206563,  0.42510343,  0.62541983,  0.59187898,  0.57929325,\n",
       "        0.59649123,  0.37107708,  0.6142108 ,  0.71129913,  1.06018015,\n",
       "        0.43706336,  0.31966611,  0.39845179,  0.23462173,  0.30128724,\n",
       "        0.73793935,  0.56336074,  0.42738666,  0.36163047,  0.47250972,\n",
       "        0.30634335,  0.74423989,  0.3906495 , -0.01266225,  0.20610444,\n",
       "        0.54665879,  0.51734956,  0.7036089 ,  0.44508243,  0.52407399,\n",
       "        0.77225714,  0.66308848,  0.50365544,  0.51320912,  0.34257733,\n",
       "        0.70842831,  0.55769261,  0.5860681 ,  0.38954913,  0.28289848,\n",
       "        0.78125588,  0.35812025,  0.61352721,  0.46172384,  0.37034214,\n",
       "        0.26690313,  0.13943327,  0.25679258,  0.63801331,  0.21583895,\n",
       "        0.58501845,  0.49353332,  0.56422046,  0.52731144,  0.34489269,\n",
       "        0.61543978,  0.40450859,  0.920321  ,  0.42066794,  0.8985864 ,\n",
       "        0.47943586,  0.32534327,  0.44404389,  0.50249203,  0.18096704,\n",
       "        0.65561805,  0.33362916,  0.67972491,  0.80723048,  0.22388262,\n",
       "        0.58591818,  0.59368691,  0.72852797,  0.63771444,  0.41852902,\n",
       "        0.66940574,  0.58165478,  0.51440681,  0.39839629,  0.53182963,\n",
       "        0.32663357,  0.62622968,  0.26621459,  0.32779188,  0.45859722,\n",
       "        0.59627905,  0.61583082,  0.44156521,  0.66273155,  0.53306518,\n",
       "        0.4722986 ,  0.29548893,  0.63856559,  0.88034366,  0.40263325,\n",
       "        0.61621453,  0.34716093,  0.87596415,  0.46986798,  0.34145148,\n",
       "        0.81569742,  0.48441833,  0.3966556 ,  0.85616463,  0.4992351 ,\n",
       "        0.40204498,  0.65125755,  0.85634068,  0.87461549,  0.71012328,\n",
       "        0.5447776 ,  0.53579154,  0.71320715,  0.33235626,  0.83048558,\n",
       "        0.53530691,  0.4692276 ,  0.86552486,  0.52204894,  0.7278036 ,\n",
       "        0.70222101,  0.1824449 ,  0.87023287,  0.53330884,  0.28328458,\n",
       "        0.52919699,  0.17592635,  0.47542626,  0.55594062,  0.06074663,\n",
       "        0.47293606,  0.38662963,  0.63879979,  0.55704786,  0.78823421,\n",
       "        0.09969191,  0.27353404,  0.60259616,  0.27235685,  0.48798395,\n",
       "        0.32643636,  0.59854325,  0.40992775,  0.59411398,  0.27415981,\n",
       "        0.24424498,  0.381349  ,  0.53100405,  0.54174581,  0.17947606,\n",
       "        0.52971227,  0.33925411,  0.49058658,  0.75753925,  0.62509995,\n",
       "        0.84275384,  0.54864256,  0.59438625,  0.5298179 ,  0.91110574,\n",
       "        0.30596718,  0.23074337,  0.57969623,  0.66099075,  0.55660788,\n",
       "        0.47374052,  0.30251144,  0.70862992,  0.52765628,  0.48472489,\n",
       "        0.38619362,  0.15939911,  0.45011973,  0.65385076,  0.68601667,\n",
       "        0.61896794,  0.47185202,  0.69786697,  0.30628651,  1.16209237,\n",
       "        0.61387975,  0.45427846,  0.35754644,  0.4234542 ,  0.3141975 ,\n",
       "        0.6654817 ,  0.51125939,  0.75902732,  0.68388654,  0.48279408,\n",
       "        0.83331586,  0.44404497,  0.27668774,  0.4547535 ,  0.49951874,\n",
       "        0.6987523 ,  0.78516522,  0.3598545 , -0.18539385,  0.26931397,\n",
       "        0.73778408,  0.59328826,  0.35720543,  0.44040409,  0.05024326])"
      ]
     },
     "execution_count": 19,
     "metadata": {},
     "output_type": "execute_result"
    }
   ],
   "source": [
    "normal_dist_data = np.random.normal(0.5, 0.2, 1000)\n",
    "normal_dist_data"
   ]
  },
  {
   "cell_type": "code",
   "execution_count": 21,
   "metadata": {},
   "outputs": [
    {
     "data": {
      "text/plain": [
       "<Axes: ylabel='Count'>"
      ]
     },
     "execution_count": 21,
     "metadata": {},
     "output_type": "execute_result"
    },
    {
     "data": {
      "image/png": "[encoded data removed]",
      "text/plain": [
       "<Figure size 640x480 with 1 Axes>"
      ]
     },
     "metadata": {},
     "output_type": "display_data"
    }
   ],
   "source": [
    "sns.histplot(normal_dist_data, kde= True)"
   ]
  },
  {
   "attachments": {},
   "cell_type": "markdown",
   "metadata": {},
   "source": [
    "### Standard Normal Distribution:"
   ]
  },
  {
   "cell_type": "code",
   "execution_count": 33,
   "metadata": {},
   "outputs": [
    {
     "data": {
      "text/plain": [
       "<Axes: ylabel='Count'>"
      ]
     },
     "execution_count": 33,
     "metadata": {},
     "output_type": "execute_result"
    },
    {
     "data": {
      "image/png": "[encoded data removed]",
      "text/plain": [
       "<Figure size 640x480 with 1 Axes>"
      ]
     },
     "metadata": {},
     "output_type": "display_data"
    }
   ],
   "source": [
    "import numpy as np\n",
    "\n",
    "# create a normal distribution with mean=10 and standard deviation=2\n",
    "normal_data = np.random.normal(loc=10, scale=2, size=100)\n",
    "sns.histplot(normal_data, kde = True)\n",
    "\n"
   ]
  },
  {
   "cell_type": "code",
   "execution_count": 34,
   "metadata": {},
   "outputs": [
    {
     "data": {
      "text/plain": [
       "<Axes: ylabel='Count'>"
      ]
     },
     "execution_count": 34,
     "metadata": {},
     "output_type": "execute_result"
    },
    {
     "data": {
      "image/png": "[encoded data removed]",
      "text/plain": [
       "<Figure size 640x480 with 1 Axes>"
      ]
     },
     "metadata": {},
     "output_type": "display_data"
    }
   ],
   "source": [
    "# calculate the z-scores using the mean and standard deviation of the normal distribution\n",
    "z_scores = (normal_data - np.mean(normal_data)) / np.std(normal_data)\n",
    "\n",
    "# the resulting z-scores will have a mean of 0 and a standard deviation of 1\n",
    "sns.histplot(z_scores, kde=True)"
   ]
  },
  {
   "cell_type": "markdown",
   "metadata": {},
   "source": []
  },
  {
   "attachments": {},
   "cell_type": "markdown",
   "metadata": {},
   "source": [
    "### Log Normal Distribution:"
   ]
  },
  {
   "cell_type": "code",
   "execution_count": 24,
   "metadata": {},
   "outputs": [
    {
     "data": {
      "text/plain": [
       "array([  8.77752715,  45.34244491,  31.72511327,   6.78370625,\n",
       "         9.74573665,  53.42188773,  28.52169045, 114.41200393,\n",
       "        26.2785985 ,  12.87067982,  21.71779638,  58.59837542,\n",
       "         5.87636128,  67.71633294,  91.65003397,  34.5211684 ,\n",
       "        48.29860027,  27.91668831,  21.35459282,   4.43802539,\n",
       "        17.83325618,  11.71216358,  34.39516133,  10.34047125,\n",
       "        12.88897233,  62.43540699,  10.06183406,   4.37656575,\n",
       "        76.23735496,   6.61831481,  84.5934267 ,  16.76282831,\n",
       "         9.0473748 ,  26.27576672,  31.69466822,  27.29234289,\n",
       "         3.19921302, 292.75088466,  12.74057493,  26.95088454,\n",
       "         4.28972508,   9.75275265,   5.4366326 ,  30.16524011,\n",
       "        22.16908308,  28.37617283,  10.94293943,  22.63227988,\n",
       "         7.28500684,   4.3666121 ,  33.08399649,  24.18069535,\n",
       "        23.72942275,  22.90352667,  10.6096473 ,  24.36557896,\n",
       "         6.56301268,  55.73330245,  11.04699408,  12.3487813 ,\n",
       "        16.72964092,  45.75597071,  64.76679035,  21.35143742,\n",
       "        51.30777927,  80.5278988 ,   5.97625089,  32.91775022,\n",
       "        31.05015089,   9.62559686,   6.91053044,  45.49653679,\n",
       "        21.14524775,  22.38344571,  12.74787957,  17.49160894,\n",
       "        19.78112522,  35.86481521, 181.05747224,  10.95750862,\n",
       "        42.89498837,  46.07997707,  17.49634774,  23.46551151,\n",
       "       104.14536488,  34.87833981,   4.51854061, 292.09752531,\n",
       "        30.44896518,  13.24905013,  14.06927497,  35.69437834,\n",
       "        68.1948172 ,  92.5481838 ,  13.8354348 ,  42.7679212 ,\n",
       "       147.63170813,  16.60641407,   9.10510672,  22.79133775,\n",
       "         5.16801134,  38.92733087,  36.7126089 ,  12.5040069 ,\n",
       "        11.91285278,   3.85809152,  18.08930859,  45.89664543,\n",
       "        40.06286485,  44.53745994,  42.77096033,  11.84263129,\n",
       "         5.78392852,  78.42625843,   9.66975566,  27.96529153,\n",
       "        13.30352724,  39.17334225,  50.25650389,  22.53099498,\n",
       "         5.84937946,  30.30979115,  47.16949892,  43.27063725,\n",
       "        44.36840792,  12.08210282, 100.18307528,   5.1304593 ,\n",
       "         7.06014919,  22.72269609,  22.58379009, 702.52276268,\n",
       "         5.43536814,  52.02109557,  95.2732668 ,  27.55335986,\n",
       "        12.76562766,   8.08607625,  12.72000302, 102.45631337,\n",
       "        12.20104613,   2.90227179,  13.77035897,  76.26099921,\n",
       "        40.3905979 ,   4.44150261,  12.82261445,  19.28652041,\n",
       "         9.73192886,  19.2280638 ,  38.69775718,  13.12840034,\n",
       "        18.29353937,  30.01452838,  27.63080806, 146.36745375,\n",
       "        34.75621973,  13.71653684,  86.37250596,  13.798046  ,\n",
       "        26.08151412,  11.22687084,  20.4805721 ,   5.42092315,\n",
       "       114.71911097,  31.99987154,  78.55726358,   7.42038202,\n",
       "       115.54834541,  23.44463229,   5.36234076,  11.9296099 ,\n",
       "        40.1295605 ,  11.07595486,   4.81165257,  38.78899   ,\n",
       "        12.4838574 ,  36.38688601,  33.46421465,  19.48670202,\n",
       "         6.73950755,  68.56193398,  10.0164134 ,  20.45030775,\n",
       "         7.75257702,  15.79838   ,   5.50704072,  10.55997525,\n",
       "       156.02451329,  23.50825911,  23.66232818,   8.01591516,\n",
       "        52.47600542,  42.83048127,  32.386315  ,  39.34052911,\n",
       "        23.10296841, 161.22085433,   6.77581435,  20.7683385 ,\n",
       "        70.09778293,  17.13245601,  15.35548843,  34.03213993,\n",
       "        69.87791589,   3.52666776,  75.80060489,   2.48684854,\n",
       "        26.31423935, 119.00151879,  17.21783936,   7.75223111,\n",
       "         5.45972513,  45.58390364,  19.51610181, 156.98275886,\n",
       "        19.3822187 ,  11.46089425,  37.53865232,  47.80088573,\n",
       "         6.22888809,  36.69342093,  25.65339087,  45.19590634,\n",
       "        30.57236636,  44.04819834,   2.04803466,  17.35961409,\n",
       "        11.9370723 ,  35.10560848,  20.15057534,  51.30220834,\n",
       "         6.25134269,  52.42362421,   8.52118098,  40.54246977,\n",
       "        33.5301679 ,  51.60771371,  38.5466955 ,   4.97393957,\n",
       "        31.10251822,  14.40204807,  12.49107157,  58.14912855,\n",
       "         7.38073659,  10.39006947,  63.03015821,  11.11323351,\n",
       "        62.79541463,  23.96834579,   4.85981999, 281.75535971,\n",
       "        35.4905572 ,   8.27062455,   3.05473875,  10.30305546,\n",
       "        40.72992379,  54.70921065,   4.87393343,   9.08846809,\n",
       "        77.66948527,  89.68543982,  42.84573492,  14.31010056,\n",
       "        44.08894784, 484.99699273,   4.17422407,   7.93059077,\n",
       "         3.24943571,  22.70779524,  20.10634115,   7.30786297,\n",
       "        24.31245255,  12.22838518,  76.42982831,  11.74647503,\n",
       "        21.91093845,  32.4833027 ,  14.88413939,  88.80278946,\n",
       "         2.63667658,  13.62070309,   4.19744423,   3.8921393 ,\n",
       "        15.29927292,  33.72042379,   6.32978671,  16.13610319,\n",
       "        21.00770059,  48.4449647 ,   8.01558116,  30.48237728,\n",
       "         9.56552189,  35.96382241,  18.67548036,  53.27707259,\n",
       "       120.83751307,  13.3070815 ,   4.77048265,   6.64361194,\n",
       "         6.18596644,  31.52992696,  43.82329941,  32.8960568 ,\n",
       "         4.73396821,  43.07371455,  21.92836877,  37.69185214,\n",
       "        24.56914592,  53.70124705,  14.87477025,  18.48290512,\n",
       "        48.56995144,  15.74969998,  26.73421842,   9.54897991,\n",
       "        68.99131442,  27.83764734,  18.56247158,  61.99053156,\n",
       "         7.31492434,  54.17479602,  22.0034996 ,  58.08438668,\n",
       "         9.36785727,  18.72813746,   9.61507136,  36.87735294,\n",
       "        53.84849802,   3.03937679,  70.51318946,  16.95039425,\n",
       "       140.63797515,   6.76679602,  13.25991212,   8.47446541,\n",
       "         6.57080719,  35.91080039, 246.44040102,  59.65649863,\n",
       "         1.43094501,  75.83920537,   5.47224337,  44.25914846,\n",
       "       115.88916712,   3.34666279,   5.1074963 , 406.37069965,\n",
       "         9.39208816,  23.6415958 ,   4.9010309 ,  47.66198335,\n",
       "         2.95588041,  22.92749953,   7.06290189,  40.07387054,\n",
       "        49.0421142 ,  48.35717198,   1.47445615,   5.4050639 ,\n",
       "        23.2452429 ,  73.52997322,   6.51262151,   4.24499013,\n",
       "         1.09077147,  32.69057661,   3.43819615,   4.70616102,\n",
       "        10.73880826,  22.12847665,  68.60044684,  33.28966735,\n",
       "        21.50670824,  11.2379804 ,  83.28227235,   7.11738783,\n",
       "        15.23245232,  20.67951166,   9.32467715,   6.02531781,\n",
       "       142.74189797,  57.71234768,  19.49701801,  21.65986464,\n",
       "         8.6923694 , 200.12373244,  11.82557653,   7.87019571,\n",
       "        19.62792289,   9.9600265 ,  35.79671217,  19.90214373,\n",
       "        30.59634147,   3.97157636,   2.63965757,  42.3195614 ,\n",
       "        55.04690365,   5.5734433 ,  11.87103617,  33.7773652 ,\n",
       "        10.54014575,  29.51672592,  17.98953952, 124.89796524,\n",
       "        48.67747541, 185.27084344,  27.80772381,  63.95188109,\n",
       "        12.17003971,   5.44724521,  23.05371425,  75.29335275,\n",
       "        56.63998719,  33.17100531,  48.57846135,   8.21984186,\n",
       "        13.63327177,  13.60554129,  11.41068251,  27.4135539 ,\n",
       "        47.81017574,  36.59836763,  15.3605546 ,  35.152949  ,\n",
       "        53.82222969,  17.87631018,  52.04751246,  52.92468812,\n",
       "        14.74843542,  23.02031226,   9.80044439,  25.66730364,\n",
       "        19.39449659,  66.59450255, 115.35973579,  26.2953417 ,\n",
       "        13.04910817,  34.69343493,  35.40740948,  12.59853682,\n",
       "        18.36149496,  17.86818734,   6.08974774,  27.16317402,\n",
       "        23.25122716,  14.11457842,   3.39209651,  28.11535858,\n",
       "        10.61465961, 106.82196   ,   9.02093485,   5.2034694 ,\n",
       "        37.09129824,  23.6732462 , 145.81052678,  72.75298431,\n",
       "        86.10585108,  14.93768091,   6.82320032,  15.31797424,\n",
       "        20.18711131,  26.92730057,  14.26245199,  90.13278474,\n",
       "        12.44871666,  22.73734105,  18.33911435,   8.61096156,\n",
       "        23.34776661,  11.34566609,  74.85160632,   2.5928448 ,\n",
       "        15.98408394,  28.79132781,  27.73362555,  10.78857774,\n",
       "        28.56783   ,  29.99967476, 181.07743466,  27.33801654,\n",
       "        95.82578693,  25.59681294,  14.3473469 ,  12.61606429,\n",
       "        17.08677578,  15.47784912, 163.79263414,   5.11682409,\n",
       "        14.03720332,  85.3175808 ,  39.51447384,  35.51557527,\n",
       "        51.67657132,  45.5584394 ,  60.22023556,  23.62460717,\n",
       "        39.80309036,   2.31287791,  53.9718216 ,  11.25369958,\n",
       "        31.98872546,   9.57563979, 185.67648355, 132.16549171,\n",
       "         5.65607451,  41.49142383,  11.69230045,  21.25852645,\n",
       "         1.74776275,  10.81581623,  29.72158968,  21.94032315,\n",
       "        44.82220031,  22.22997501,   6.18735348,  36.89864769,\n",
       "       128.46010721,   7.85649805,  22.18696228,  13.57282499,\n",
       "         3.75218898,  21.06468066,  51.0005324 ,  31.08018885,\n",
       "        20.67690475,  43.43442641,  35.46688399,   8.01125276,\n",
       "        41.27966327,  21.75301746, 120.873713  ,  10.01313082,\n",
       "         2.94038375,  24.84198615,  83.843988  ,  10.30233331,\n",
       "        15.98929649,  15.15334457,   9.62194706,   6.28287452,\n",
       "       146.34381833,  49.92749224,  41.16123535,  42.76247711,\n",
       "        36.09668774,  34.89233316,  48.07691292, 107.13785636,\n",
       "        53.09458811,  60.75616872,  25.34895481,  26.29510963,\n",
       "        40.53290687,  71.54560729,   5.81092259, 131.79912028,\n",
       "        33.81929903,   1.37225203,  12.61928767,  20.51735055,\n",
       "         6.56202198,  20.16908342,  30.88305239,   5.87831471,\n",
       "       126.75419583,   7.0430964 ,  16.62628454,  10.83608906,\n",
       "        28.09849065,  51.83298051,  27.75510144,  47.5912274 ,\n",
       "        41.24894379,  93.58117019,  20.38769522, 104.76576181,\n",
       "        25.57040145,  38.78056792,  75.27849848,   9.01252094,\n",
       "        58.69247976,  30.5427783 ,   8.56619045,  15.31572757,\n",
       "        54.81830808,  84.26747723, 423.36268324, 104.35611804,\n",
       "         5.93238964,  10.76490748,  63.31589626,  33.56739771,\n",
       "        43.50572992,  12.3453506 ,  53.20335931,  10.7193272 ,\n",
       "        62.82519711,  27.63326649,   5.93401433,  14.65671843,\n",
       "        15.03678502,  22.88465015,  29.66356426,   9.60986018,\n",
       "        27.42577465,  18.2711264 ,  19.33683787,  54.8437058 ,\n",
       "        11.92287356,  12.7789032 , 336.61136062,  59.37972046,\n",
       "        65.18481058,   6.62498625,  11.61869176,  36.00919705,\n",
       "         1.78235819,  37.12634813, 140.68042912, 101.58622331,\n",
       "        21.5977498 ,  12.52490066,  10.62541536,  38.4239818 ,\n",
       "         2.53288596,  49.66016236,   8.75170362,  10.75003114,\n",
       "         6.53694114,  69.06492562,   9.21853443,   5.07869739,\n",
       "        14.80160099,  69.29077142,   8.00133757,  28.44200247,\n",
       "        23.0119827 , 100.75759269,  32.10428348,   6.19594927,\n",
       "        44.05675757, 101.90742665,   6.69000335,   3.34716299,\n",
       "        15.35022395,   3.08871334,   8.32367365,  19.479733  ,\n",
       "        16.05209811, 170.96756291,  99.89935264,  16.49146966,\n",
       "        21.5565621 ,   8.83294081,  67.74742588,  34.52727328,\n",
       "        45.32354696,  18.39169039,  41.25308892,  22.66221144,\n",
       "        22.80833208,  47.90598332,  34.874616  ,  50.53264906,\n",
       "         5.89846825, 142.59089299, 162.5793214 ,  34.6677257 ,\n",
       "        14.57115995,  14.74747675, 178.22059071,  50.96305608,\n",
       "        10.68063546,  29.48639663,   8.63734392,  16.41789779,\n",
       "        31.97410081,  16.24905011,  12.6952191 ,  43.31578126,\n",
       "         7.58981389,  90.45678898,  27.57095615,   8.12001585,\n",
       "        24.96664407,  27.47276575,   6.01735927,   5.11027503,\n",
       "        37.84424597,   9.88977303,   4.82951419,  69.33030655,\n",
       "        48.03237749,   3.91952035,  29.84186835,   4.58052143,\n",
       "        62.37568422,  25.74959267,  19.21235911,   9.76215322,\n",
       "        17.00192697,  11.237837  ,  23.11434338,  77.95869406,\n",
       "        26.52480544,   9.30970233,  58.17583384,  21.39094524,\n",
       "        10.83222011,   8.25509519,  12.34354629,   2.8308986 ,\n",
       "        44.06352992,  17.54261082,  27.45265369,  44.86253938,\n",
       "        22.1534636 ,  28.32596713,   3.29084311,  19.26988093,\n",
       "         4.20573617,   6.79631174,   6.07337168,   8.68680267,\n",
       "         1.63349681,  11.41910507,  51.50033502,  17.83477627,\n",
       "        23.75418722,  22.29313247,   2.79324385,  11.1748649 ,\n",
       "         6.89716355,  13.00863541,   4.4139374 ,  44.94546951,\n",
       "        19.76217992,   2.18645887,  37.51296941, 156.23218893,\n",
       "         7.14618888,   7.98753562,  44.35708858,  90.32474588,\n",
       "        69.55066474,  18.43215146,  63.97519487,  74.8078359 ,\n",
       "         6.36721605,  20.13861942,  58.43754242,   3.43625423,\n",
       "        24.04690462,   9.44340682,  84.01491052,  15.47151902,\n",
       "        24.64481894, 263.92890511,  15.50030216,  33.98475211,\n",
       "         3.82988169,   8.8659427 ,  16.52760494,   2.91804133,\n",
       "        14.19792837,  19.96627007,  38.69756422,  10.66590283,\n",
       "         4.97441339,  18.78785022,  18.68261737,  11.13684272,\n",
       "        41.31877427,  26.6128137 ,  11.78956977,  35.37032748,\n",
       "        17.98902426,  14.52609813,  29.76674239,   3.18722834,\n",
       "        19.62038457,   3.84780856,  13.78018179,  73.10421687,\n",
       "         6.85626869,  66.71637853,  18.33010588,  18.8577694 ,\n",
       "        57.32866349,  43.50734269,  47.23487104,   4.4881875 ,\n",
       "        12.9349474 ,  20.61340183,   8.16252122,  64.16383006,\n",
       "        55.81076777,  11.46565156,  78.57721436,   8.99392498,\n",
       "        86.09182699,  68.63323827,  12.8593191 ,   2.41281688,\n",
       "        60.95057192,  12.85156622,  87.41819521,  67.33488977,\n",
       "         4.25586574,  95.29396145,  27.46110037,  22.68446335,\n",
       "        16.81141358,   9.95022888,  45.01836483, 118.23000839,\n",
       "        69.82675499,  32.8615142 ,  22.1033064 ,   3.48955299,\n",
       "         5.60231394,  35.23960214,  80.50858902,   5.56805625,\n",
       "         8.85248804,  13.56511869,  15.30452547,  35.3904547 ,\n",
       "        26.16911254, 171.00325635,  18.70499186,  29.46404941,\n",
       "        59.79583478,  44.68721751,  36.69059788,  33.50841096,\n",
       "        40.91706171,   3.34447911,   7.2672645 ,   8.69595503,\n",
       "         9.93805424,  10.28223937,  38.97981554,  11.56072152,\n",
       "        38.07791529,  25.90330902,  17.45200635,  62.90130912,\n",
       "        14.63252332,  55.52645885,  45.71740437,  59.22542517,\n",
       "        72.75171048,  27.77176541,  38.54722008,   2.66714415,\n",
       "        11.0766418 ,  30.26476726,  36.0950375 ,  44.52605729,\n",
       "         3.00667569,  18.01980898,   5.23364326,  17.23790192,\n",
       "        12.80721881,   4.23600696,  48.80929413,  18.41887754,\n",
       "        40.45421399,  19.17092308,  11.79856564,  31.96316689,\n",
       "        38.6336206 ,   6.67852893, 121.32280843,  12.48018133,\n",
       "        12.89418579,  10.81309882,  18.08979228,   7.24473248,\n",
       "        20.74203322,  83.39944166,  24.42139328, 105.14660823,\n",
       "        84.18366576,  46.43906825,  41.14629534,   4.81216443,\n",
       "        21.18035812,   5.2790231 ,   6.28034632,  34.47757451,\n",
       "        73.13147131,   3.1203972 ,  14.58958753,  41.40182711,\n",
       "        38.40830448,  40.73766698,  25.3993559 ,  53.77275347,\n",
       "        17.01575825,  39.07812532,  26.64998632,  33.21551406,\n",
       "        18.28501651,  13.27260161,   4.33370035,  10.84437036,\n",
       "         9.93050927,  16.46880234,  28.16796981,  45.23356078,\n",
       "        34.81232492,  22.19064423,  26.10593574,  24.27883157,\n",
       "        45.83571905,  10.78249455,   8.99781724,  12.20687553,\n",
       "        22.15586361,   5.55410204,  37.13532065,  13.20894737,\n",
       "        56.26466169,  15.02510938,  11.72309915,   4.11567359,\n",
       "        21.5381038 ,  15.06277116,  27.57996997,  16.01933152,\n",
       "       292.06467301,  38.15335297,   8.89933878,  25.72123431,\n",
       "        21.19615949,  35.18813273,  32.02275795,   4.49065436,\n",
       "         5.37099736, 211.6665935 ,  31.93343309,  47.02282711,\n",
       "         9.70294911,  13.67220741,  17.81814671,  29.20547453,\n",
       "         7.03734482,  27.77548722,  17.34791182,  61.11080073,\n",
       "         2.95335679,  21.98405245,   8.95751305,  79.4982515 ,\n",
       "         6.36109007,  65.70284874,  48.78346143, 163.54311243,\n",
       "         7.03679227,  21.25973179,  22.1608189 ,  35.00989434,\n",
       "        87.2793573 ,  20.93101054,  20.28313725,   4.16469429,\n",
       "        11.95080732,  15.20856604, 130.67849299,  38.77998756,\n",
       "         2.99100791,  64.49683949,  66.42390134,   0.92086215,\n",
       "        19.62539606,  27.72855917,  17.25144187,  69.16899432,\n",
       "        27.84694797,  36.25279496,  10.60922229,  40.13006625,\n",
       "        11.12421085,   9.749508  ,  15.18627788, 139.74293572,\n",
       "        43.9435621 ,  51.3581922 ,   6.70817709,   3.63788288,\n",
       "        14.84945801,  23.05235465,  42.22708742,  18.09452679,\n",
       "       112.61428389,   7.378798  ,   7.33217629,  35.32950642])"
      ]
     },
     "execution_count": 24,
     "metadata": {},
     "output_type": "execute_result"
    }
   ],
   "source": [
    "# log normal distribution:\n",
    "mu = 3.0 # mean \n",
    "sigma = 1.0 # standard deviation \n",
    "\n",
    "log_normal_dist_data = np.random.lognormal(mu, sigma, 1000)\n",
    "log_normal_dist_data"
   ]
  },
  {
   "cell_type": "code",
   "execution_count": 23,
   "metadata": {},
   "outputs": [
    {
     "data": {
      "text/plain": [
       "<Axes: ylabel='Count'>"
      ]
     },
     "execution_count": 23,
     "metadata": {},
     "output_type": "execute_result"
    },
    {
     "data": {
      "image/png": "[encoded data removed]",
      "text/plain": [
       "<Figure size 640x480 with 1 Axes>"
      ]
     },
     "metadata": {},
     "output_type": "display_data"
    }
   ],
   "source": [
    "sns.histplot(log_normal_dist_data, kde=True)"
   ]
  },
  {
   "cell_type": "code",
   "execution_count": 26,
   "metadata": {},
   "outputs": [],
   "source": [
    "# apply transformation:\n",
    "log_normal_to_normal = np.log(log_normal_dist_data)"
   ]
  },
  {
   "cell_type": "code",
   "execution_count": 27,
   "metadata": {},
   "outputs": [
    {
     "data": {
      "text/plain": [
       "<Axes: ylabel='Count'>"
      ]
     },
     "execution_count": 27,
     "metadata": {},
     "output_type": "execute_result"
    },
    {
     "data": {
      "image/png": "[encoded data removed]",
      "text/plain": [
       "<Figure size 640x480 with 1 Axes>"
      ]
     },
     "metadata": {},
     "output_type": "display_data"
    }
   ],
   "source": [
    "sns.histplot(log_normal_to_normal, kde=True)"
   ]
  },
  {
   "cell_type": "code",
   "execution_count": null,
   "metadata": {},
   "outputs": [],
   "source": []
  }
 ],
 "metadata": {
  "kernelspec": {
   "display_name": "Python 3",
   "language": "python",
   "name": "python3"
  },
  "language_info": {
   "codemirror_mode": {
    "name": "ipython",
    "version": 3
   },
   "file_extension": ".py",
   "mimetype": "text/x-python",
   "name": "python",
   "nbconvert_exporter": "python",
   "pygments_lexer": "ipython3",
   "version": "3.10.6"
  },
  "orig_nbformat": 4
 },
 "nbformat": 4,
 "nbformat_minor": 2
}
